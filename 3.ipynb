{
 "cells": [
  {
   "cell_type": "code",
   "execution_count": 1,
   "id": "0d6254cd",
   "metadata": {},
   "outputs": [],
   "source": [
    "import pandas as pd"
   ]
  },
  {
   "cell_type": "code",
   "execution_count": 3,
   "id": "4839f253",
   "metadata": {},
   "outputs": [
    {
     "ename": "SyntaxError",
     "evalue": "invalid syntax (2356584427.py, line 11)",
     "output_type": "error",
     "traceback": [
      "\u001b[1;36m  Cell \u001b[1;32mIn[3], line 11\u001b[1;36m\u001b[0m\n\u001b[1;33m    : [i for i in range(1, 97)]}\u001b[0m\n\u001b[1;37m    ^\u001b[0m\n\u001b[1;31mSyntaxError\u001b[0m\u001b[1;31m:\u001b[0m invalid syntax\n"
     ]
    }
   ],
   "source": [
    "data = {'Время прибытия': ['0-04', '0-10', '0-21', '0-32', '1-15', '1-30', '2-01', '2-15', '2-26', '2-40', '2-45',\n",
    "                           '2-50', '3-48', '3-50', '3-58', '4-15', '4-44', '5-02', '5-08', '5-43', '6-01', '6-26',\n",
    "                           '7-12', '7-22', '16-25', '16-35', '16-35', '16-50', '17-40', '18-01', '18-15', '18-36',\n",
    "                           '18-50', '19-20', '19-59', '20-10', '20-45', '22-45', '22-49', '22-54', '22-59', '23-15',\n",
    "                           '23-25', '23-36', '23-47', '23-51', '7-40', '8-01', '8-15', '9-15', '9-35', '9-44',\n",
    "                           '9-53', '10-05', '10-15', '10-26', '10-34', '11-12', '11-37', '11-53', '12-04',\n",
    "                           '12-20', '12-43', '13-00', '14-10', '14-22', '14-23', '14-50', '15-55', '16-01',\n",
    "                           '0-35', '1-01', '1-48', '2-38', '3-01', '3-05', '3-10', '3-52', '4-02', '4-18', '4-30',\n",
    "                           '5-05', '5-35', '5-35', '6-05', '6-55', '7-35', '7-40', '7-48', '8-15', '8-25',\n",
    "                           '9-15', '9-35', '9-53'],\n",
    "        : [i for i in range(1, 97)]}\n",
    "df = pd.DataFrame(data)\n",
    "\n",
    "\n",
    "def to_seconds(time):\n",
    "    time_list = time.split('-')\n",
    "    minutes = int(time_list[0])\n",
    "    seconds = int(time_list[1])\n",
    "    return minutes * 60 + seconds\n",
    "\n",
    "df['Время прибытия (сек)'] = df['Время прибытия'].apply(to_seconds)\n",
    "\n",
    "# считаем интервалы между прибытиями\n",
    "df['Интервал'] = df['Время прибытия (сек)'].diff()\n",
    "\n",
    "# удаляем первую строку, так как у нее нет интервала\n",
    "df = df.drop(0)\n",
    "\n",
    "# выводим статистический ряд\n",
    "print(df['Интервал'].value_counts())\n",
    "\n",
    "# выводим моду, медиану, среднее, размах, дисперсию и стандартное отклонение\n",
    "print('Мода:', df['Интервал'].mode()[0])\n",
    "print('Медиана:', df['Интервал'].median())\n",
    "print('Среднее:', df['Интервал'].mean())\n",
    "print('Размах:', df['Интервал'].max() - df['Интервал'].min())\n",
    "print('Дисперсия:', df['Интервал'].var())\n",
    "print('Стандартное отклонение:', df['Интервал'].std())"
   ]
  },
  {
   "cell_type": "code",
   "execution_count": 4,
   "id": "99c25bc8",
   "metadata": {},
   "outputs": [],
   "source": [
    "import pandas as pd\n",
    "import numpy as np"
   ]
  },
  {
   "cell_type": "code",
   "execution_count": 5,
   "id": "611cc6dd",
   "metadata": {},
   "outputs": [],
   "source": [
    "data = {\n",
    "    'Время прибытия': [\n",
    "        '2-04', '2-10', '2-21', '2-32', '3-15', '3-30', '4-01', '4-15', '4-26', '4-40', \n",
    "        '4-45', '4-50', '5-48', '5-50', '5-58', '6-15', '6-44', '7-02', '7-08', '7-43', \n",
    "        '8-01', '8-26', '9-12', '9-22', '16-25', '16-35', '16-35', '16-50', '17-40', '18-01', \n",
    "        '18-15', '18-36', '18-50', '19-20', '19-59', '20-10', '20-45', '22-45', '22-49', '22-54', \n",
    "        '22-59', '23-15', '23-25', '23-36', '23-47', '23-51', '0-09', '0-30', '0-35', '1-01', \n",
    "        '1-48', '2-38', '3-01', '3-05', '3-10', '3-52', '4-02', '4-18', '4-30', '5-05', '5-35', \n",
    "        '5-35', '6-05', '6-55', '7-35', '7-40', '7-48', '8-15', '8-25', '9-15', '9-35', '9-53'\n",
    "    ]\n",
    "}\n",
    "\n",
    "df = pd.DataFrame(data)"
   ]
  },
  {
   "cell_type": "code",
   "execution_count": 6,
   "id": "4a750d93",
   "metadata": {},
   "outputs": [],
   "source": [
    "df['Время прибытия'] = pd.to_datetime(df['Время прибытия'], format='%H-%M')"
   ]
  },
  {
   "cell_type": "code",
   "execution_count": 7,
   "id": "5fae9f05",
   "metadata": {},
   "outputs": [],
   "source": [
    "df['Интервал'] = df['Время прибытия'].diff()"
   ]
  },
  {
   "cell_type": "code",
   "execution_count": 8,
   "id": "4040b1d7",
   "metadata": {},
   "outputs": [],
   "source": [
    "df = df.dropna()"
   ]
  },
  {
   "cell_type": "code",
   "execution_count": 10,
   "id": "bd9416bf",
   "metadata": {},
   "outputs": [],
   "source": [
    "mode = df['Интервал'].mode()[0]\n",
    "median = df['Интервал'].median()\n",
    "mean = df['Интервал'].mean()\n",
    "range_val = df['Интервал'].max() - df['Интервал'].min()\n",
    "\n",
    "std_deviation = df['Интервал'].std()"
   ]
  },
  {
   "cell_type": "code",
   "execution_count": 12,
   "id": "4eb3ec4a",
   "metadata": {},
   "outputs": [
    {
     "name": "stdout",
     "output_type": "stream",
     "text": [
      "Мода: 0 days 00:05:00\n",
      "Медиана: 0 days 00:15:00\n",
      "Среднее: 0 days 00:06:36.338028169\n",
      "Размах: 1 days 06:45:00\n",
      "Стандартное отклонение: 0 days 02:59:26.617354375\n"
     ]
    }
   ],
   "source": [
    "print(\"Мода:\", mode)\n",
    "print(\"Медиана:\", median)\n",
    "print(\"Среднее:\", mean)\n",
    "print(\"Размах:\", range_val)\n",
    "\n",
    "print(\"Стандартное отклонение:\", std_deviation)"
   ]
  },
  {
   "cell_type": "code",
   "execution_count": 13,
   "id": "1831f1f9",
   "metadata": {},
   "outputs": [],
   "source": [
    "df['Интервал в секундах'] = df['Интервал'].dt.total_seconds()\n",
    "variance = df['Интервал в секундах'].var()"
   ]
  },
  {
   "cell_type": "code",
   "execution_count": 14,
   "id": "90dc16db",
   "metadata": {},
   "outputs": [
    {
     "ename": "TypeError",
     "evalue": "'TimedeltaArray' with dtype timedelta64[ns] does not support reduction 'var'",
     "output_type": "error",
     "traceback": [
      "\u001b[1;31m---------------------------------------------------------------------------\u001b[0m",
      "\u001b[1;31mTypeError\u001b[0m                                 Traceback (most recent call last)",
      "Cell \u001b[1;32mIn[14], line 5\u001b[0m\n\u001b[0;32m      3\u001b[0m mean \u001b[38;5;241m=\u001b[39m df[\u001b[38;5;124m'\u001b[39m\u001b[38;5;124mИнтервал\u001b[39m\u001b[38;5;124m'\u001b[39m]\u001b[38;5;241m.\u001b[39mmean()\n\u001b[0;32m      4\u001b[0m range_val \u001b[38;5;241m=\u001b[39m df[\u001b[38;5;124m'\u001b[39m\u001b[38;5;124mИнтервал\u001b[39m\u001b[38;5;124m'\u001b[39m]\u001b[38;5;241m.\u001b[39mmax() \u001b[38;5;241m-\u001b[39m df[\u001b[38;5;124m'\u001b[39m\u001b[38;5;124mИнтервал\u001b[39m\u001b[38;5;124m'\u001b[39m]\u001b[38;5;241m.\u001b[39mmin()\n\u001b[1;32m----> 5\u001b[0m variance \u001b[38;5;241m=\u001b[39m df[\u001b[38;5;124m'\u001b[39m\u001b[38;5;124mИнтервал\u001b[39m\u001b[38;5;124m'\u001b[39m]\u001b[38;5;241m.\u001b[39mvar()\n\u001b[0;32m      6\u001b[0m std_deviation \u001b[38;5;241m=\u001b[39m df[\u001b[38;5;124m'\u001b[39m\u001b[38;5;124mИнтервал\u001b[39m\u001b[38;5;124m'\u001b[39m]\u001b[38;5;241m.\u001b[39mstd()\n",
      "File \u001b[1;32m~\\anaconda3\\Lib\\site-packages\\pandas\\core\\generic.py:11693\u001b[0m, in \u001b[0;36mNDFrame._add_numeric_operations.<locals>.var\u001b[1;34m(self, axis, skipna, level, ddof, numeric_only, **kwargs)\u001b[0m\n\u001b[0;32m  11674\u001b[0m \u001b[38;5;129m@doc\u001b[39m(\n\u001b[0;32m  11675\u001b[0m     _num_ddof_doc,\n\u001b[0;32m  11676\u001b[0m     desc\u001b[38;5;241m=\u001b[39m\u001b[38;5;124m\"\u001b[39m\u001b[38;5;124mReturn unbiased variance over requested axis.\u001b[39m\u001b[38;5;130;01m\\n\u001b[39;00m\u001b[38;5;130;01m\\n\u001b[39;00m\u001b[38;5;124mNormalized by \u001b[39m\u001b[38;5;124m\"\u001b[39m\n\u001b[1;32m   (...)\u001b[0m\n\u001b[0;32m  11691\u001b[0m     \u001b[38;5;241m*\u001b[39m\u001b[38;5;241m*\u001b[39mkwargs,\n\u001b[0;32m  11692\u001b[0m ):\n\u001b[1;32m> 11693\u001b[0m     \u001b[38;5;28;01mreturn\u001b[39;00m NDFrame\u001b[38;5;241m.\u001b[39mvar(\u001b[38;5;28mself\u001b[39m, axis, skipna, level, ddof, numeric_only, \u001b[38;5;241m*\u001b[39m\u001b[38;5;241m*\u001b[39mkwargs)\n",
      "File \u001b[1;32m~\\anaconda3\\Lib\\site-packages\\pandas\\core\\generic.py:11292\u001b[0m, in \u001b[0;36mNDFrame.var\u001b[1;34m(self, axis, skipna, level, ddof, numeric_only, **kwargs)\u001b[0m\n\u001b[0;32m  11283\u001b[0m \u001b[38;5;28;01mdef\u001b[39;00m \u001b[38;5;21mvar\u001b[39m(\n\u001b[0;32m  11284\u001b[0m     \u001b[38;5;28mself\u001b[39m,\n\u001b[0;32m  11285\u001b[0m     axis: Axis \u001b[38;5;241m|\u001b[39m \u001b[38;5;28;01mNone\u001b[39;00m \u001b[38;5;241m=\u001b[39m \u001b[38;5;28;01mNone\u001b[39;00m,\n\u001b[1;32m   (...)\u001b[0m\n\u001b[0;32m  11290\u001b[0m     \u001b[38;5;241m*\u001b[39m\u001b[38;5;241m*\u001b[39mkwargs,\n\u001b[0;32m  11291\u001b[0m ) \u001b[38;5;241m-\u001b[39m\u001b[38;5;241m>\u001b[39m Series \u001b[38;5;241m|\u001b[39m \u001b[38;5;28mfloat\u001b[39m:\n\u001b[1;32m> 11292\u001b[0m     \u001b[38;5;28;01mreturn\u001b[39;00m \u001b[38;5;28mself\u001b[39m\u001b[38;5;241m.\u001b[39m_stat_function_ddof(\n\u001b[0;32m  11293\u001b[0m         \u001b[38;5;124m\"\u001b[39m\u001b[38;5;124mvar\u001b[39m\u001b[38;5;124m\"\u001b[39m, nanops\u001b[38;5;241m.\u001b[39mnanvar, axis, skipna, level, ddof, numeric_only, \u001b[38;5;241m*\u001b[39m\u001b[38;5;241m*\u001b[39mkwargs\n\u001b[0;32m  11294\u001b[0m     )\n",
      "File \u001b[1;32m~\\anaconda3\\Lib\\site-packages\\pandas\\core\\generic.py:11266\u001b[0m, in \u001b[0;36mNDFrame._stat_function_ddof\u001b[1;34m(self, name, func, axis, skipna, level, ddof, numeric_only, **kwargs)\u001b[0m\n\u001b[0;32m  11256\u001b[0m     warnings\u001b[38;5;241m.\u001b[39mwarn(\n\u001b[0;32m  11257\u001b[0m         \u001b[38;5;124m\"\u001b[39m\u001b[38;5;124mUsing the level keyword in DataFrame and Series aggregations is \u001b[39m\u001b[38;5;124m\"\u001b[39m\n\u001b[0;32m  11258\u001b[0m         \u001b[38;5;124m\"\u001b[39m\u001b[38;5;124mdeprecated and will be removed in a future version. Use groupby \u001b[39m\u001b[38;5;124m\"\u001b[39m\n\u001b[1;32m   (...)\u001b[0m\n\u001b[0;32m  11261\u001b[0m         stacklevel\u001b[38;5;241m=\u001b[39mfind_stack_level(),\n\u001b[0;32m  11262\u001b[0m     )\n\u001b[0;32m  11263\u001b[0m     \u001b[38;5;28;01mreturn\u001b[39;00m \u001b[38;5;28mself\u001b[39m\u001b[38;5;241m.\u001b[39m_agg_by_level(\n\u001b[0;32m  11264\u001b[0m         name, axis\u001b[38;5;241m=\u001b[39maxis, level\u001b[38;5;241m=\u001b[39mlevel, skipna\u001b[38;5;241m=\u001b[39mskipna, ddof\u001b[38;5;241m=\u001b[39mddof\n\u001b[0;32m  11265\u001b[0m     )\n\u001b[1;32m> 11266\u001b[0m \u001b[38;5;28;01mreturn\u001b[39;00m \u001b[38;5;28mself\u001b[39m\u001b[38;5;241m.\u001b[39m_reduce(\n\u001b[0;32m  11267\u001b[0m     func, name, axis\u001b[38;5;241m=\u001b[39maxis, numeric_only\u001b[38;5;241m=\u001b[39mnumeric_only, skipna\u001b[38;5;241m=\u001b[39mskipna, ddof\u001b[38;5;241m=\u001b[39mddof\n\u001b[0;32m  11268\u001b[0m )\n",
      "File \u001b[1;32m~\\anaconda3\\Lib\\site-packages\\pandas\\core\\series.py:4797\u001b[0m, in \u001b[0;36mSeries._reduce\u001b[1;34m(self, op, name, axis, skipna, numeric_only, filter_type, **kwds)\u001b[0m\n\u001b[0;32m   4793\u001b[0m     \u001b[38;5;28mself\u001b[39m\u001b[38;5;241m.\u001b[39m_get_axis_number(axis)\n\u001b[0;32m   4795\u001b[0m \u001b[38;5;28;01mif\u001b[39;00m \u001b[38;5;28misinstance\u001b[39m(delegate, ExtensionArray):\n\u001b[0;32m   4796\u001b[0m     \u001b[38;5;66;03m# dispatch to ExtensionArray interface\u001b[39;00m\n\u001b[1;32m-> 4797\u001b[0m     \u001b[38;5;28;01mreturn\u001b[39;00m delegate\u001b[38;5;241m.\u001b[39m_reduce(name, skipna\u001b[38;5;241m=\u001b[39mskipna, \u001b[38;5;241m*\u001b[39m\u001b[38;5;241m*\u001b[39mkwds)\n\u001b[0;32m   4799\u001b[0m \u001b[38;5;28;01melse\u001b[39;00m:\n\u001b[0;32m   4800\u001b[0m     \u001b[38;5;66;03m# dispatch to numpy arrays\u001b[39;00m\n\u001b[0;32m   4801\u001b[0m     \u001b[38;5;28;01mif\u001b[39;00m numeric_only \u001b[38;5;129;01mand\u001b[39;00m \u001b[38;5;129;01mnot\u001b[39;00m is_numeric_dtype(\u001b[38;5;28mself\u001b[39m\u001b[38;5;241m.\u001b[39mdtype):\n",
      "File \u001b[1;32m~\\anaconda3\\Lib\\site-packages\\pandas\\core\\arrays\\base.py:1435\u001b[0m, in \u001b[0;36mExtensionArray._reduce\u001b[1;34m(self, name, skipna, **kwargs)\u001b[0m\n\u001b[0;32m   1433\u001b[0m meth \u001b[38;5;241m=\u001b[39m \u001b[38;5;28mgetattr\u001b[39m(\u001b[38;5;28mself\u001b[39m, name, \u001b[38;5;28;01mNone\u001b[39;00m)\n\u001b[0;32m   1434\u001b[0m \u001b[38;5;28;01mif\u001b[39;00m meth \u001b[38;5;129;01mis\u001b[39;00m \u001b[38;5;28;01mNone\u001b[39;00m:\n\u001b[1;32m-> 1435\u001b[0m     \u001b[38;5;28;01mraise\u001b[39;00m \u001b[38;5;167;01mTypeError\u001b[39;00m(\n\u001b[0;32m   1436\u001b[0m         \u001b[38;5;124mf\u001b[39m\u001b[38;5;124m\"\u001b[39m\u001b[38;5;124m'\u001b[39m\u001b[38;5;132;01m{\u001b[39;00m\u001b[38;5;28mtype\u001b[39m(\u001b[38;5;28mself\u001b[39m)\u001b[38;5;241m.\u001b[39m\u001b[38;5;18m__name__\u001b[39m\u001b[38;5;132;01m}\u001b[39;00m\u001b[38;5;124m'\u001b[39m\u001b[38;5;124m with dtype \u001b[39m\u001b[38;5;132;01m{\u001b[39;00m\u001b[38;5;28mself\u001b[39m\u001b[38;5;241m.\u001b[39mdtype\u001b[38;5;132;01m}\u001b[39;00m\u001b[38;5;124m \u001b[39m\u001b[38;5;124m\"\u001b[39m\n\u001b[0;32m   1437\u001b[0m         \u001b[38;5;124mf\u001b[39m\u001b[38;5;124m\"\u001b[39m\u001b[38;5;124mdoes not support reduction \u001b[39m\u001b[38;5;124m'\u001b[39m\u001b[38;5;132;01m{\u001b[39;00mname\u001b[38;5;132;01m}\u001b[39;00m\u001b[38;5;124m'\u001b[39m\u001b[38;5;124m\"\u001b[39m\n\u001b[0;32m   1438\u001b[0m     )\n\u001b[0;32m   1439\u001b[0m \u001b[38;5;28;01mreturn\u001b[39;00m meth(skipna\u001b[38;5;241m=\u001b[39mskipna, \u001b[38;5;241m*\u001b[39m\u001b[38;5;241m*\u001b[39mkwargs)\n",
      "\u001b[1;31mTypeError\u001b[0m: 'TimedeltaArray' with dtype timedelta64[ns] does not support reduction 'var'"
     ]
    }
   ],
   "source": [
    "mode = df['Интервал'].mode()[0]\n",
    "median = df['Интервал'].median()\n",
    "mean = df['Интервал'].mean()\n",
    "range_val = df['Интервал'].max() - df['Интервал'].min()\n",
    "variance = df['Интервал'].var()\n",
    "std_deviation = df['Интервал'].std()"
   ]
  },
  {
   "cell_type": "code",
   "execution_count": 15,
   "id": "880882af",
   "metadata": {},
   "outputs": [
    {
     "name": "stdout",
     "output_type": "stream",
     "text": [
      "Мода: 0 days 00:05:00\n",
      "Медиана: 0 days 00:15:00\n",
      "Среднее: 0 days 00:06:36.338028169\n",
      "Размах: 1 days 06:45:00\n",
      "Дисперсия: 115920049.25553323\n",
      "Стандартное отклонение: 0 days 02:59:26.617354375\n"
     ]
    }
   ],
   "source": [
    "print(\"Мода:\", mode)\n",
    "print(\"Медиана:\", median)\n",
    "print(\"Среднее:\", mean)\n",
    "print(\"Размах:\", range_val)\n",
    "print(\"Дисперсия:\", variance)\n",
    "print(\"Стандартное отклонение:\", std_deviation)"
   ]
  },
  {
   "cell_type": "code",
   "execution_count": null,
   "id": "dc292065",
   "metadata": {},
   "outputs": [],
   "source": []
  }
 ],
 "metadata": {
  "kernelspec": {
   "display_name": "Python 3 (ipykernel)",
   "language": "python",
   "name": "python3"
  },
  "language_info": {
   "codemirror_mode": {
    "name": "ipython",
    "version": 3
   },
   "file_extension": ".py",
   "mimetype": "text/x-python",
   "name": "python",
   "nbconvert_exporter": "python",
   "pygments_lexer": "ipython3",
   "version": "3.11.4"
  }
 },
 "nbformat": 4,
 "nbformat_minor": 5
}
